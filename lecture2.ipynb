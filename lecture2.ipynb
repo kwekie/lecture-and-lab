{
 "cells": [
  {
   "cell_type": "code",
   "execution_count": 11,
   "metadata": {},
   "outputs": [
    {
     "name": "stdout",
     "output_type": "stream",
     "text": [
      "Access denied\n"
     ]
    }
   ],
   "source": [
    "username = input('Username: ')\n",
    "password = input('Password: ')\n",
    "\n",
    "larry_match = (username == 'Larry') and (password == 'coding_is_fun')\n",
    "\n",
    "if larry_match == True:\n",
    "    print(\"Access granted\")\n",
    "\n",
    "else:\n",
    "    print(\"Access denied\")"
   ]
  },
  {
   "cell_type": "code",
   "execution_count": 12,
   "metadata": {},
   "outputs": [
    {
     "name": "stdout",
     "output_type": "stream",
     "text": [
      "10\n"
     ]
    }
   ],
   "source": [
    "STANDARD_DEDUCTION = 12400\n",
    "total_income = int(input('Please enter your income:'))\n",
    "taxable_income = total_income - STANDARD_DEDUCTION\n",
    "\n",
    "if taxable_income <= 9875:\n",
    "    rate = 10\n",
    "# if it is not <= 9875, then check for:\n",
    "elif taxable_income <= 40125:\n",
    "    rate = 12\n",
    "elif taxable_income <= 85525:\n",
    "    rate = 22\n",
    "\n",
    "print(rate)"
   ]
  },
  {
   "cell_type": "code",
   "execution_count": 13,
   "metadata": {},
   "outputs": [
    {
     "name": "stdout",
     "output_type": "stream",
     "text": [
      "Hello, world! Number:  0\n",
      "Hello, world! Number:  1\n",
      "Hello, world! Number:  2\n",
      "Hello, world! Number:  3\n",
      "Hello, world! Number:  4\n"
     ]
    }
   ],
   "source": [
    "i = 0\n",
    "\n",
    "while i < 5:\n",
    "    print('Hello, world! Number: ', i)\n",
    "    i=i+1"
   ]
  }
 ],
 "metadata": {
  "kernelspec": {
   "display_name": "Python 3",
   "language": "python",
   "name": "python3"
  },
  "language_info": {
   "codemirror_mode": {
    "name": "ipython",
    "version": 3
   },
   "file_extension": ".py",
   "mimetype": "text/x-python",
   "name": "python",
   "nbconvert_exporter": "python",
   "pygments_lexer": "ipython3",
   "version": "3.12.1"
  }
 },
 "nbformat": 4,
 "nbformat_minor": 2
}
