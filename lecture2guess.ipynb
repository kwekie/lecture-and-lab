{
 "cells": [
  {
   "cell_type": "code",
   "execution_count": 7,
   "metadata": {},
   "outputs": [
    {
     "name": "stdout",
     "output_type": "stream",
     "text": [
      "you guessed it wrong\n",
      "you guessed it wrong\n",
      "you guessed it wrong\n",
      "you guessed it right\n"
     ]
    }
   ],
   "source": [
    "correct_number = 33\n",
    "incorrect = True\n",
    "\n",
    "while incorrect:\n",
    "    guessed_number = int(input(\"Guess a number between 1 and 100:\"))\n",
    "\n",
    "    if guessed_number == correct_number:\n",
    "        incorrect = False\n",
    "        print(\"you guessed it right\")\n",
    "\n",
    "    else:\n",
    "        print(\"you guessed it wrong\")"
   ]
  }
 ],
 "metadata": {
  "kernelspec": {
   "display_name": "Python 3",
   "language": "python",
   "name": "python3"
  },
  "language_info": {
   "codemirror_mode": {
    "name": "ipython",
    "version": 3
   },
   "file_extension": ".py",
   "mimetype": "text/x-python",
   "name": "python",
   "nbconvert_exporter": "python",
   "pygments_lexer": "ipython3",
   "version": "3.12.1"
  }
 },
 "nbformat": 4,
 "nbformat_minor": 2
}
