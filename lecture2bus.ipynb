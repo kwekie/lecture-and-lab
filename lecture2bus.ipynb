{
 "cells": [
  {
   "cell_type": "code",
   "execution_count": 2,
   "metadata": {},
   "outputs": [
    {
     "name": "stdout",
     "output_type": "stream",
     "text": [
      "You will need 3 buses.\n"
     ]
    }
   ],
   "source": [
    "BUS_CAPACITY = 12\n",
    "\n",
    "number_of_children = int(input(\"Number of children:\"))\n",
    "\n",
    "buses_needed = number_of_children // BUS_CAPACITY\n",
    "\n",
    "number_left_over = number_of_children % BUS_CAPACITY\n",
    "\n",
    "if (number_left_over > 0):\n",
    "    buses_needed = buses_needed + 1\n",
    "\n",
    "print(\"You will need\", buses_needed, \"buses.\")"
   ]
  }
 ],
 "metadata": {
  "kernelspec": {
   "display_name": "Python 3",
   "language": "python",
   "name": "python3"
  },
  "language_info": {
   "codemirror_mode": {
    "name": "ipython",
    "version": 3
   },
   "file_extension": ".py",
   "mimetype": "text/x-python",
   "name": "python",
   "nbconvert_exporter": "python",
   "pygments_lexer": "ipython3",
   "version": "3.12.1"
  }
 },
 "nbformat": 4,
 "nbformat_minor": 2
}
